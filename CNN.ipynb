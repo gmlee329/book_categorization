{
 "cells": [
  {
   "cell_type": "code",
   "execution_count": 1,
   "metadata": {},
   "outputs": [
    {
     "name": "stderr",
     "output_type": "stream",
     "text": [
      "Using TensorFlow backend.\n"
     ]
    }
   ],
   "source": [
    "import pickle\n",
    "import numpy as np\n",
    "import keras\n",
    "from tensorflow.keras.models import Sequential\n",
    "from tensorflow.keras.optimizers import RMSprop\n",
    "from tensorflow.keras.models import model_from_json\n",
    "import matplotlib.pyplot as plt\n",
    "from tensorflow.keras.preprocessing.text import Tokenizer\n",
    "import pandas as pd\n",
    "from tensorflow.keras.utils import to_categorical\n",
    "import tensorflow as tf\n",
    "from tensorflow.keras import preprocessing\n",
    "from tensorflow.keras.models import Model\n",
    "from tensorflow.keras.layers import Input, Embedding, Dense, Dropout, Conv1D, GlobalMaxPool1D, concatenate\n",
    "import json"
   ]
  },
  {
   "cell_type": "code",
   "execution_count": 18,
   "metadata": {},
   "outputs": [
    {
     "name": "stdout",
     "output_type": "stream",
     "text": [
      "책 소개의 최대 길이 :2738\n",
      "책 소개의 평균 길이 :98.09151630811937\n",
      "책 소개 길이의 제3사분위수:123.25\n"
     ]
    },
    {
     "data": {
      "image/png": "[encoded data removed]",
      "text/plain": [
       "<Figure size 432x288 with 1 Axes>"
      ]
     },
     "metadata": {
      "needs_background": "light"
     },
     "output_type": "display_data"
    }
   ],
   "source": [
    "print('책 소개의 최대 길이 :{}'.format(max(len(l) for l in corpus)))\n",
    "print('책 소개의 평균 길이 :{}'.format(sum(map(len, corpus))/len(corpus)))\n",
    "print('책 소개 길이의 제3사분위수:{}'.format(pd.DataFrame([len(l) for l in corpus])[0].quantile(0.75)) )\n",
    "plt.hist([len(s) for s in corpus], bins=50)\n",
    "plt.xlabel('length of samples')\n",
    "plt.ylabel('number of samples')\n",
    "plt.show()"
   ]
  },
  {
   "cell_type": "markdown",
   "metadata": {},
   "source": [
    "-------------------------\n",
    "# CNN 다중분류"
   ]
  },
  {
   "cell_type": "code",
   "execution_count": 4,
   "metadata": {},
   "outputs": [],
   "source": [
    "# 데이터 읽어오기\n",
    "train_file = \"./데이터/합본.csv\"\n",
    "data = pd.read_csv(train_file,encoding='cp949')\n",
    "features = data['content'].tolist()\n",
    "labels = data['label'].tolist()\n",
    "\n",
    "# 단어 인덱스 시퀀스 벡터\n",
    "corpus = [preprocessing.text.text_to_word_sequence(text) for text in features]\n",
    "\n",
    "tokenizer = preprocessing.text.Tokenizer(num_words=30000)\n",
    "# tokenizer = Tokenizer(vocab_size, oov_token = 'OOV') \n",
    "tokenizer.fit_on_texts(corpus)\n",
    "sequences = tokenizer.texts_to_sequences(corpus)\n",
    "word_index = tokenizer.word_index\n",
    "MAX_SEQ_LEN = 300   # 단어 시퀀스 벡터 크기\n",
    "padded_seqs = preprocessing.sequence.pad_sequences(sequences, maxlen=MAX_SEQ_LEN, padding='post')\n",
    "\n",
    "# 학습용, 검증용, 테스트용 데이터셋 생성 \n",
    "# 학습셋:검증셋:테스트셋 = 7:2:1\n",
    "ds = tf.data.Dataset.from_tensor_slices((padded_seqs, labels))\n",
    "ds = ds.shuffle(len(features))\n",
    "train_size = int(len(padded_seqs) * 0.7)\n",
    "val_size = int(len(padded_seqs) * 0.2)\n",
    "test_size= int(len(padded_seqs) * 0.1)\n",
    "train_ds = ds.take(train_size).batch(20)\n",
    "val_ds = ds.skip(train_size).take(val_size).batch(20)\n",
    "test_ds = ds.skip(train_size + val_size).take(test_size).batch(20)"
   ]
  },
  {
   "cell_type": "code",
   "execution_count": 6,
   "metadata": {},
   "outputs": [
    {
     "name": "stdout",
     "output_type": "stream",
     "text": [
      "Train for 404 steps, validate for 116 steps\n",
      "Epoch 1/8\n",
      "404/404 [==============================] - 27s 66ms/step - loss: 1.6348 - accuracy: 0.3642 - val_loss: 1.0130 - val_accuracy: 0.7076\n",
      "Epoch 2/8\n",
      "404/404 [==============================] - 25s 61ms/step - loss: 0.9520 - accuracy: 0.6982 - val_loss: 0.5892 - val_accuracy: 0.8295\n",
      "Epoch 3/8\n",
      "404/404 [==============================] - 25s 61ms/step - loss: 0.6736 - accuracy: 0.7811 - val_loss: 0.3874 - val_accuracy: 0.8946\n",
      "Epoch 4/8\n",
      "404/404 [==============================] - 25s 61ms/step - loss: 0.4995 - accuracy: 0.8417 - val_loss: 0.2711 - val_accuracy: 0.9180\n",
      "Epoch 5/8\n",
      "404/404 [==============================] - 25s 61ms/step - loss: 0.4181 - accuracy: 0.8757 - val_loss: 0.2222 - val_accuracy: 0.9297\n",
      "Epoch 6/8\n",
      "404/404 [==============================] - 25s 63ms/step - loss: 0.3466 - accuracy: 0.8945 - val_loss: 0.1917 - val_accuracy: 0.9397\n",
      "Epoch 7/8\n",
      "404/404 [==============================] - 25s 62ms/step - loss: 0.2952 - accuracy: 0.9147 - val_loss: 0.1457 - val_accuracy: 0.9557\n",
      "Epoch 8/8\n",
      "404/404 [==============================] - 24s 60ms/step - loss: 0.2661 - accuracy: 0.9182 - val_loss: 0.1455 - val_accuracy: 0.9514\n"
     ]
    }
   ],
   "source": [
    "dropout_prob = 0.5\n",
    "EMB_SIZE = 128\n",
    "EPOCH = 8\n",
    "VOCAB_SIZE = 36556  # 전체 단어 수\n",
    "\n",
    "# CNN 모델 정의\n",
    "input_layer = Input(shape=(MAX_SEQ_LEN,))\n",
    "embedding_layer = Embedding(VOCAB_SIZE, EMB_SIZE, input_length=MAX_SEQ_LEN)(input_layer)\n",
    "dropout_emb = Dropout(rate=dropout_prob)(embedding_layer)\n",
    "\n",
    "conv1 = Conv1D(filters=128, kernel_size=3, padding='valid', activation=tf.nn.relu)(dropout_emb)\n",
    "pool1 = GlobalMaxPool1D()(conv1)\n",
    "conv2 = Conv1D(filters=128, kernel_size=4, padding='valid', activation=tf.nn.relu)(dropout_emb)\n",
    "pool2 = GlobalMaxPool1D()(conv2)\n",
    "conv3 = Conv1D(filters=128, kernel_size=5, padding='valid', activation=tf.nn.relu)(dropout_emb)\n",
    "pool3 = GlobalMaxPool1D()(conv3)\n",
    "\n",
    "# 3, 4, 5- gram 이후 합치기\n",
    "concat = concatenate([pool1, pool2, pool3])\n",
    "hidden = Dense(128, activation=tf.nn.relu)(concat)\n",
    "dropout_hidden = Dropout(rate=dropout_prob)(hidden)\n",
    "logits = Dense(7, name='logits')(dropout_hidden)\n",
    "predictions = Dense(7, activation=tf.nn.softmax)(logits)\n",
    "\n",
    "# 모델 생성\n",
    "model = Model(inputs=input_layer, outputs=predictions)\n",
    "model.compile(optimizer='adam', loss='sparse_categorical_crossentropy', metrics=['accuracy'])\n",
    "\n",
    "# 학습 실행하기 \n",
    "hist = model.fit(train_ds,  validation_data=val_ds,epochs=EPOCH, verbose=1)"
   ]
  },
  {
   "cell_type": "code",
   "execution_count": 7,
   "metadata": {},
   "outputs": [
    {
     "data": {
      "image/png": "[encoded data removed]",
      "text/plain": [
       "<Figure size 432x288 with 1 Axes>"
      ]
     },
     "metadata": {
      "needs_background": "light"
     },
     "output_type": "display_data"
    }
   ],
   "source": [
    "# 학습 상태를 그래프로 그리기 \n",
    "plt.plot(hist.history['accuracy'])\n",
    "plt.plot(hist.history['val_accuracy'])\n",
    "plt.title('Accuracy ')\n",
    "plt.legend(['train', 'test'], loc='upper left')\n",
    "plt.show()"
   ]
  },
  {
   "cell_type": "code",
   "execution_count": 8,
   "metadata": {},
   "outputs": [
    {
     "data": {
      "image/png": "[encoded data removed]",
      "text/plain": [
       "<Figure size 432x288 with 1 Axes>"
      ]
     },
     "metadata": {
      "needs_background": "light"
     },
     "output_type": "display_data"
    }
   ],
   "source": [
    "plt.plot(hist.history['loss'])\n",
    "plt.plot(hist.history['val_loss'])\n",
    "plt.title('Loss')\n",
    "plt.legend(['train', 'test'], loc='upper left')\n",
    "plt.show()"
   ]
  },
  {
   "cell_type": "code",
   "execution_count": 9,
   "metadata": {},
   "outputs": [
    {
     "name": "stdout",
     "output_type": "stream",
     "text": [
      "accuray:  0.9539931\n"
     ]
    }
   ],
   "source": [
    "score = model.evaluate(test_ds, verbose=0)\n",
    "print('accuray: ', score[1])"
   ]
  },
  {
   "cell_type": "code",
   "execution_count": null,
   "metadata": {},
   "outputs": [],
   "source": []
  },
  {
   "cell_type": "code",
   "execution_count": null,
   "metadata": {},
   "outputs": [],
   "source": []
  },
  {
   "cell_type": "code",
   "execution_count": null,
   "metadata": {},
   "outputs": [],
   "source": []
  },
  {
   "cell_type": "code",
   "execution_count": null,
   "metadata": {},
   "outputs": [],
   "source": []
  },
  {
   "cell_type": "code",
   "execution_count": null,
   "metadata": {},
   "outputs": [],
   "source": []
  },
  {
   "cell_type": "code",
   "execution_count": null,
   "metadata": {},
   "outputs": [],
   "source": []
  },
  {
   "cell_type": "code",
   "execution_count": 8,
   "metadata": {},
   "outputs": [],
   "source": [
    "# # 테스트하기 \n",
    "# test_file = \"./데이터/추가_test.csv\"\n",
    "# data = pd.read_csv(test_file,encoding='cp949')\n",
    "# features = data['content'].tolist()\n",
    "# labels = data['label'].tolist()\n",
    "\n",
    "# corpus = [preprocessing.text.text_to_word_sequence(text) for text in features]\n",
    "\n",
    "# sequences = tokenizer.texts_to_sequences(corpus)\n",
    "# MAX_SEQ_LEN = 1400   # 단어 시퀀스 벡터 크기\n",
    "# padded_seqs = preprocessing.sequence.pad_sequences(sequences, maxlen=MAX_SEQ_LEN, padding='post')\n",
    "\n",
    "# ds = tf.data.Dataset.from_tensor_slices((padded_seqs, labels))\n",
    "# ds = ds.shuffle(len(features))\n",
    "# test_ds = ds.take(2307).batch(20)"
   ]
  },
  {
   "cell_type": "markdown",
   "metadata": {},
   "source": [
    "--------------------------------\n",
    "# CNN 모델 저장하고 로드하기"
   ]
  },
  {
   "cell_type": "code",
   "execution_count": 10,
   "metadata": {},
   "outputs": [],
   "source": [
    "model_json = model.to_json()\n",
    "with open(\"./모델/CNN_model.json\", \"w\") as json_file:\n",
    "    json_file.write(model_json)\n",
    "\n",
    "model.save_weights(\"./모델/CNN_model.h5\")\n"
   ]
  },
  {
   "cell_type": "code",
   "execution_count": 2,
   "metadata": {},
   "outputs": [],
   "source": [
    "from tensorflow.compat.v2.keras.models import model_from_json\n",
    "\n",
    "# model.json 파일 열기\n",
    "json_file = open(\"./모델/CNN_model.json\", \"r\") \n",
    "loaded_model_json = json_file.read() \n",
    "json_file.close() \n",
    "\n",
    "# json파일로부터 model 로드하기\n",
    "loaded_model = model_from_json(loaded_model_json)\n",
    "\n",
    "# 로드한 model에 weight 로드하기\n",
    "loaded_model.load_weights(\"./모델/CNN_model.h5\")\n",
    "\n",
    " \n",
    "# 모델 컴파일\n",
    "loaded_model.compile(optimizer = 'adam',\n",
    "             loss = 'sparse_categorical_crossentropy',\n",
    "             metrics = ['accuracy'])\n",
    "\n",
    "\n",
    "# 모델 evaluation\n",
    "# test_loss, test_acc = loaded_model.evaluate(test_X, test_y)\n",
    "# print(\"Accuracy : %.2f%%\" % (test_acc*100))\n"
   ]
  },
  {
   "cell_type": "code",
   "execution_count": 6,
   "metadata": {},
   "outputs": [],
   "source": [
    "# tokenizer 정보 json으로 저장하기.\n",
    "json_string = tokenizer.to_json()\n",
    "import json\n",
    "with open('./모델/token', 'w', encoding='utf-8') as make_file:\n",
    "    json.dump(json_string, make_file, indent=\"\\t\")\n",
    "    "
   ]
  },
  {
   "cell_type": "code",
   "execution_count": 7,
   "metadata": {},
   "outputs": [],
   "source": [
    "# tokenizer 가져오기\n",
    "with open('./모델/token', 'r') as f:\n",
    "    json_data = json.load(f)"
   ]
  },
  {
   "cell_type": "code",
   "execution_count": 8,
   "metadata": {},
   "outputs": [],
   "source": [
    "# t에 tokenizer 할당.\n",
    "t = keras.preprocessing.text.tokenizer_from_json(json_data)"
   ]
  },
  {
   "cell_type": "markdown",
   "metadata": {},
   "source": [
    "----------------------------\n",
    "# 책 카테고리 분류하기! "
   ]
  },
  {
   "cell_type": "code",
   "execution_count": 9,
   "metadata": {},
   "outputs": [],
   "source": [
    "# 밑의 텍스트를 예측하는방법\n",
    "from konlpy.tag import Okt\n",
    "okt = Okt()\n",
    "\n",
    "text = '13층을 더한 만큼 더욱 풍성해진 이야기!『130층 나무 집』은 각종 상을 휩쓸며 독자들의 사랑을 받은《13층 나무 집》시리즈의 최신작으로, 나무집은 어느새 ‘130층’까지 높아졌다. 글을 쓰는 앤디와 그림을 그리는 테리는 104층 나무 집에 13층을 더 올려 ‘130층 나무 집’을 짓고 더 흥미진진한 이야기로 돌아왔다. 13층씩 커지는 짜릿한 상상으로 아이들에게 재미를 선사한다. \\\n",
    "비상! ‘미확인 비행 눈알’이 나타났다! 나무 집에는 비눗방울 발사기, 시간 낭비 방, 다리가 엄청 길어지는 ‘롱 다리’ 방 들이 새로 생긴다. 그런데 짜증나는 파리 때문에 나무 집에 불이 난 것도 모자라, 나무 집이 통째로 미확인 비행 눈알에게 납치당한다. 앤디와 테리, 질의 운명은?북소믈리에 한마디!\\\n",
    "아무리 좋은 교훈이라도 잔소리처럼 느껴지기 쉽지만, 이 책은 교훈마저도 유쾌하고 전달하는 매력이 있다. 집 밖으로 나가 본 적은 없지만 화재를 피해 높은 건물 꼭대기에서 뛰어내린 테리, 엄격한 규율과 규칙을 강요하는 부모님 곁을 떠나 스스로의 삶을 찾아 나선 앤디, 부모님을 잃고 혼자가 되어서도 자신의 운명을 개척한 질. 늘 사이좋게 지내는 건 아니지만, 어렵고 힘들거나 외로울 때마다 진심으로 서로를 챙기는 세 사람 모습은 유쾌한 이야기만큼이나 가슴 찡한 감동을 전한다.'\n"
   ]
  },
  {
   "cell_type": "code",
   "execution_count": 10,
   "metadata": {},
   "outputs": [],
   "source": [
    "word_s = okt.pos(text,norm=True ,stem=True)\n",
    "result= ''\n",
    "for n, h in word_s:\n",
    "    if not (h in ['Noun', 'Verb ', 'Adjective']): continue #\n",
    "    if len(n) == 1 : continue\n",
    "    result = result + ' ' + n"
   ]
  },
  {
   "cell_type": "code",
   "execution_count": 11,
   "metadata": {},
   "outputs": [],
   "source": [
    "corpus= preprocessing.text.text_to_word_sequence(result)\n",
    "sequences = t.texts_to_sequences([corpus])\n"
   ]
  },
  {
   "cell_type": "code",
   "execution_count": 12,
   "metadata": {},
   "outputs": [],
   "source": [
    "MAX_SEQ_LEN = 300   # 단어 시퀀스 벡터 크기\n",
    "padded_seqs = preprocessing.sequence.pad_sequences(sequences, maxlen=MAX_SEQ_LEN, padding='post')"
   ]
  },
  {
   "cell_type": "code",
   "execution_count": 13,
   "metadata": {},
   "outputs": [
    {
     "name": "stdout",
     "output_type": "stream",
     "text": [
      "이 책의 카테고리는 '어린이' 입니다\n"
     ]
    }
   ],
   "source": [
    "predict = loaded_model.predict(padded_seqs)\n",
    "if predict.argmax() == 0 :\n",
    "    print(\"이 책의 카테고리는 '경제/경영' 입니다\")\n",
    "elif predict.argmax() == 1:\n",
    "    print(\"이 책의 카테고리는 '사회/정치' 입니다\")\n",
    "elif predict.argmax() == 2:\n",
    "    print(\"이 책의 카테고리는 '시/소설' 입니다\")\n",
    "elif predict.argmax() == 3:\n",
    "    print(\"이 책의 카테고리는 '어린이' 입니다\")\n",
    "elif predict.argmax() == 4:\n",
    "    print(\"이 책의 카테고리는 '역사' 입니다\")\n",
    "elif predict.argmax() == 5:\n",
    "    print(\"이 책의 카테고리는 '인문' 입니다\")\n",
    "elif predict.argmax() == 6:\n",
    "    print(\"이 책의 카테고리는 '과학' 입니다\")"
   ]
  }
 ],
 "metadata": {
  "kernelspec": {
   "display_name": "Python 3",
   "language": "python",
   "name": "python3"
  },
  "language_info": {
   "codemirror_mode": {
    "name": "ipython",
    "version": 3
   },
   "file_extension": ".py",
   "mimetype": "text/x-python",
   "name": "python",
   "nbconvert_exporter": "python",
   "pygments_lexer": "ipython3",
   "version": "3.6.12"
  }
 },
 "nbformat": 4,
 "nbformat_minor": 4
}

{
 "cells": [
  {
   "cell_type": "markdown",
   "id": "indirect-antique",
   "metadata": {},
   "source": [
    "### 도서 소개 정보 수집"
   ]
  },
  {
   "cell_type": "code",
   "execution_count": 26,
   "id": "polyphonic-reach",
   "metadata": {},
   "outputs": [],
   "source": [
    "# url 수집\n",
    "from bs4 import BeautifulSoup\n",
    "import urllib.request as req\n",
    "\n",
    "yes24_url = 'http://www.yes24.com/'\n",
    "category_resource = '24/Category/More/001001025?ElemNo=104&ElemSeq=1&ParamSortTp=05&FetchSize=20&PageNumber='\n",
    "url_list = []\n",
    "for i in range(11):\n",
    "    res = req.urlopen(f'{yes24_url}{category_resource}{i}')\n",
    "    res = res.read()\n",
    "    soup = BeautifulSoup(res, \"html.parser\")\n",
    "\n",
    "    div = soup.find_all('div',{'class':'goods_name'})\n",
    "    url_list += [yes24_url + href.find_all('a')[0].attrs['href'] for href in div]\n",
    "    "
   ]
  },
  {
   "cell_type": "code",
   "execution_count": 27,
   "id": "following-thomson",
   "metadata": {},
   "outputs": [
    {
     "data": {
      "application/vnd.jupyter.widget-view+json": {
       "model_id": "49205cf845854ba1bd635195c5b2f6fa",
       "version_major": 2,
       "version_minor": 0
      },
      "text/plain": [
       "  0%|          | 0/880 [00:00<?, ?it/s]"
      ]
     },
     "metadata": {},
     "output_type": "display_data"
    }
   ],
   "source": [
    "# 도서 내용 수집\n",
    "from ipywidgets import IntProgress\n",
    "from tqdm.auto import tqdm\n",
    "from time import sleep\n",
    "\n",
    "contents = []\n",
    "error_url = []\n",
    "for i, url in enumerate(tqdm(url_list)):\n",
    "    try:\n",
    "        res = req.urlopen(url)\n",
    "        res = res.read()\n",
    "        soup = BeautifulSoup(res, \"html.parser\")\n",
    "\n",
    "        content = soup.find_all('div',{'class':'infoWrap_txtInner'})[0].text\n",
    "        contents.append(content)\n",
    "        sleep(1)\n",
    "    except:\n",
    "        error_url.append([i, url])\n",
    "        pass"
   ]
  },
  {
   "cell_type": "code",
   "execution_count": 28,
   "id": "female-namibia",
   "metadata": {},
   "outputs": [],
   "source": [
    "# csv로 저장\n",
    "import pandas as pd\n",
    "df = pd.DataFrame(data=contents)\n",
    "df.columns = ['content']\n",
    "df.to_csv('./자연과학.csv',index=False, encoding='cp949')"
   ]
  },
  {
   "cell_type": "code",
   "execution_count": 71,
   "id": "balanced-conclusion",
   "metadata": {},
   "outputs": [],
   "source": [
    "content = content.rstrip(' \\r\\n').replace('\\r', '')\n",
    "while '\\n\\n' in content:\n",
    "    content = content.replace('\\n\\n', '\\n')\n",
    "content = content.replace('\\n', ' ')"
   ]
  },
  {
   "cell_type": "markdown",
   "id": "complicated-fraud",
   "metadata": {},
   "source": [
    "### 도서 추천 정보 수집"
   ]
  },
  {
   "cell_type": "code",
   "execution_count": 4,
   "id": "extreme-theorem",
   "metadata": {},
   "outputs": [
    {
     "name": "stdout",
     "output_type": "stream",
     "text": [
      "get url >  0.9923458099365234\n"
     ]
    }
   ],
   "source": [
    "# url 수집\n",
    "from bs4 import BeautifulSoup\n",
    "import urllib.request as req\n",
    "\n",
    "import time\n",
    "\n",
    "s = time.time()\n",
    "\n",
    "yes24_url = 'http://www.yes24.com/'\n",
    "category_resource = '24/Category/More/001001025?ElemNo=104&ElemSeq=1&ParamSortTp=05&FetchSize=20&PageNumber='\n",
    "url_list = []\n",
    "for i in range(1, 2):\n",
    "    res = req.urlopen(f'{yes24_url}{category_resource}{i}')\n",
    "    res = res.read()\n",
    "    soup = BeautifulSoup(res, \"html.parser\")\n",
    "\n",
    "    div = soup.find_all('div',{'class':'goods_name'})\n",
    "    url_list += [yes24_url + href.find_all('a')[0].attrs['href'] for href in div]\n",
    "\n",
    "print('get url > ', time.time()-s)"
   ]
  },
  {
   "cell_type": "code",
   "execution_count": 23,
   "id": "wooden-arthur",
   "metadata": {},
   "outputs": [
    {
     "data": {
      "application/vnd.jupyter.widget-view+json": {
       "model_id": "1d4e36c202874413849f5487ff3d85f4",
       "version_major": 2,
       "version_minor": 0
      },
      "text/plain": [
       "  0%|          | 0/3 [00:00<?, ?it/s]"
      ]
     },
     "metadata": {},
     "output_type": "display_data"
    },
    {
     "name": "stdout",
     "output_type": "stream",
     "text": [
      "get_contents >  1.6586713790893555\n"
     ]
    }
   ],
   "source": [
    "# 도서 제목, 이미지 url 수집\n",
    "from ipywidgets import IntProgress\n",
    "from tqdm.auto import tqdm\n",
    "\n",
    "s = time.time()\n",
    "how_many = 3\n",
    "error_msg = '제목을 불러 올 수 없습니다.'\n",
    "error_url = 'http://image.yes24.com/sysimage/renew/gnb/logoN2.png'\n",
    "contents = []\n",
    "error_url = []\n",
    "for i, url in enumerate(tqdm(url_list[:how_many])):\n",
    "    try:\n",
    "        res = req.urlopen(url)\n",
    "        res = res.read()\n",
    "        soup = BeautifulSoup(res, \"html.parser\")\n",
    "\n",
    "        title = soup.find('h2', {'class':'gd_name'}).text\n",
    "        img_url = soup.find('em',{'class':'imgBdr'}).find('img').attrs['src']\n",
    "\n",
    "        contents.append([title, img_url])\n",
    "    except:\n",
    "        contents.append([error_msg, error_url])\n",
    "        pass\n",
    "print('get_contents > ', time.time()-s)"
   ]
  },
  {
   "cell_type": "code",
   "execution_count": 24,
   "id": "british-balloon",
   "metadata": {},
   "outputs": [
    {
     "data": {
      "text/plain": [
       "[['주린이가 가장 알고 싶은 최다질문 TOP 77', 'http://image.yes24.com/goods/96644794/800x0'],\n",
       " ['주택과 세금', 'http://image.yes24.com/goods/97784717/800x0'],\n",
       " ['2030 축의 전환', 'http://image.yes24.com/goods/93888691/800x0']]"
      ]
     },
     "execution_count": 24,
     "metadata": {},
     "output_type": "execute_result"
    }
   ],
   "source": [
    "contents"
   ]
  },
  {
   "cell_type": "code",
   "execution_count": 22,
   "id": "accepted-amount",
   "metadata": {},
   "outputs": [
    {
     "data": {
      "text/plain": [
       "'http://image.yes24.com/goods/96644794/800x0'"
      ]
     },
     "execution_count": 22,
     "metadata": {},
     "output_type": "execute_result"
    }
   ],
   "source": []
  }
 ],
 "metadata": {
  "kernelspec": {
   "display_name": "Python [conda env:my_python] *",
   "language": "python",
   "name": "conda-env-my_python-py"
  },
  "language_info": {
   "codemirror_mode": {
    "name": "ipython",
    "version": 3
   },
   "file_extension": ".py",
   "mimetype": "text/x-python",
   "name": "python",
   "nbconvert_exporter": "python",
   "pygments_lexer": "ipython3",
   "version": "3.7.9"
  }
 },
 "nbformat": 4,
 "nbformat_minor": 5
}
